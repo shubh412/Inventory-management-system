{
  "nbformat": 4,
  "nbformat_minor": 0,
  "metadata": {
    "colab": {
      "name": "Adding_elements.ipynb",
      "provenance": []
    },
    "kernelspec": {
      "name": "python3",
      "display_name": "Python 3"
    },
    "language_info": {
      "name": "python"
    }
  },
  "cells": [
    {
      "cell_type": "markdown",
      "metadata": {
        "id": "5f8h5vJdRqo5"
      },
      "source": [
        "INVENTORY MANAGEMENT SYSTEM \n",
        "\n",
        "importing the json file\n",
        "\n"
      ]
    },
    {
      "cell_type": "code",
      "metadata": {
        "id": "qJT6zPN0RJro"
      },
      "source": [
        "import json"
      ],
      "execution_count": 1,
      "outputs": []
    },
    {
      "cell_type": "code",
      "metadata": {
        "id": "npV_wElzVuTb"
      },
      "source": [
        "fd = open(\"record.json\",'r')\n",
        "r = fd.read()\n",
        "fd.close()\n",
        "\n",
        "record = json.loads(r)"
      ],
      "execution_count": 18,
      "outputs": []
    },
    {
      "cell_type": "code",
      "metadata": {
        "colab": {
          "base_uri": "https://localhost:8080/"
        },
        "id": "FcNJvHT-WC-m",
        "outputId": "2e53b9db-5247-44fc-c202-1afacc38d5ef"
      },
      "source": [
        "record"
      ],
      "execution_count": 19,
      "outputs": [
        {
          "output_type": "execute_result",
          "data": {
            "text/plain": [
              "{'1001': {'name': 'Choco Cake', 'pr': 100, 'qn': 34},\n",
              " '1002': {'name': 'Milk Cake', 'pr': 800, 'qn': 100},\n",
              " '1003': {'name': 'Drink', 'pr': 85, 'qn': 100},\n",
              " '1004': {'name': 'Candy', 'pr': 5, 'qn': 1000},\n",
              " '1005': {'name': 'Pen', 'pr': 20, 'qn': 100},\n",
              " '1006': {'name': 'Phone', 'pr': 50000, 'qn': 10},\n",
              " '1007': {'name': 'Mic', 'pr': 1500, 'qn': 0},\n",
              " '1008': {'name': 'Case', 'pr': 599, 'qn': 5},\n",
              " '1009': {'name': 'Keyboard', 'pr': 1999, 'qn': 10}}"
            ]
          },
          "metadata": {},
          "execution_count": 19
        }
      ]
    },
    {
      "cell_type": "markdown",
      "metadata": {
        "id": "0th-QX41RpNe"
      },
      "source": [
        "Now adding the elements inside the json file "
      ]
    },
    {
      "cell_type": "code",
      "metadata": {
        "colab": {
          "base_uri": "https://localhost:8080/"
        },
        "id": "a687vY7lVteX",
        "outputId": "8b610e9c-97ff-46b9-fc30-486018d21d5e"
      },
      "source": [
        "prod_id = str(input(\"Enter product ID:\"))\n",
        "name = str(input(\"Enter Name:\"))\n",
        "pr = int(input(\"Enter Price:\"))\n",
        "qn = int(input(\"Enter Quantity:\"))\n",
        "\n",
        "record[prod_id]={\"name\": name , \"pr\": pr , \"qn\": qn}\n",
        "\n",
        "js = json.dumps(record)\n",
        "\n",
        "fd = open(\"record.json\",'w')\n",
        "fd.write(js)\n",
        "fd.close()"
      ],
      "execution_count": 20,
      "outputs": [
        {
          "name": "stdout",
          "output_type": "stream",
          "text": [
            "Enter product ID:1010\n",
            "Enter Name:Jeans\n",
            "Enter Price:800\n",
            "Enter Quantity:6\n"
          ]
        }
      ]
    },
    {
      "cell_type": "code",
      "metadata": {
        "colab": {
          "base_uri": "https://localhost:8080/"
        },
        "id": "HT_1gfVgWNvR",
        "outputId": "2aaea494-9e1e-44bc-ba75-64ce8bb364f6"
      },
      "source": [
        "record"
      ],
      "execution_count": 21,
      "outputs": [
        {
          "output_type": "execute_result",
          "data": {
            "text/plain": [
              "{'1001': {'name': 'Choco Cake', 'pr': 100, 'qn': 34},\n",
              " '1002': {'name': 'Milk Cake', 'pr': 800, 'qn': 100},\n",
              " '1003': {'name': 'Drink', 'pr': 85, 'qn': 100},\n",
              " '1004': {'name': 'Candy', 'pr': 5, 'qn': 1000},\n",
              " '1005': {'name': 'Pen', 'pr': 20, 'qn': 100},\n",
              " '1006': {'name': 'Phone', 'pr': 50000, 'qn': 10},\n",
              " '1007': {'name': 'Mic', 'pr': 1500, 'qn': 0},\n",
              " '1008': {'name': 'Case', 'pr': 599, 'qn': 5},\n",
              " '1009': {'name': 'Keyboard', 'pr': 1999, 'qn': 10},\n",
              " '1010': {'name': 'Jeans', 'pr': 800, 'qn': 6}}"
            ]
          },
          "metadata": {},
          "execution_count": 21
        }
      ]
    },
    {
      "cell_type": "markdown",
      "metadata": {
        "id": "BSc903yhT2sa"
      },
      "source": [
        "With the same process , we can add many items in the record.json file"
      ]
    },
    {
      "cell_type": "code",
      "metadata": {
        "colab": {
          "base_uri": "https://localhost:8080/"
        },
        "id": "jaPGL71jWQsA",
        "outputId": "e04074dd-0a76-4b7e-8b0d-c9b4791d6c69"
      },
      "source": [
        "prod_id = str(input(\"Enter product ID:\"))\n",
        "name = str(input(\"Enter Name:\"))\n",
        "pr = int(input(\"Enter Price:\"))\n",
        "qn = int(input(\"Enter Quantity:\"))\n",
        "\n",
        "record[prod_id]={\"name\": name , \"pr\": pr , \"qn\": qn}\n",
        "\n",
        "js = json.dumps(record)\n",
        "\n",
        "fd = open(\"record.json\",'w')\n",
        "fd.write(js)\n",
        "fd.close()"
      ],
      "execution_count": 48,
      "outputs": [
        {
          "name": "stdout",
          "output_type": "stream",
          "text": [
            "Enter product ID:1030\n",
            "Enter Name:Earphones\n",
            "Enter Price:1500\n",
            "Enter Quantity:4\n"
          ]
        }
      ]
    },
    {
      "cell_type": "code",
      "metadata": {
        "colab": {
          "base_uri": "https://localhost:8080/"
        },
        "id": "suRnDpKwW2si",
        "outputId": "b547dcba-5e74-4b11-989a-ac0cd9a7b3ec"
      },
      "source": [
        "record\n"
      ],
      "execution_count": 49,
      "outputs": [
        {
          "output_type": "execute_result",
          "data": {
            "text/plain": [
              "{'1001': {'name': 'Choco Cake', 'pr': 100, 'qn': 34},\n",
              " '1002': {'name': 'Milk Cake', 'pr': 800, 'qn': 100},\n",
              " '1003': {'name': 'Drink', 'pr': 85, 'qn': 100},\n",
              " '1004': {'name': 'Candy', 'pr': 5, 'qn': 1000},\n",
              " '1005': {'name': 'Pen', 'pr': 20, 'qn': 100},\n",
              " '1006': {'name': 'Phone', 'pr': 50000, 'qn': 10},\n",
              " '1007': {'name': 'Mic', 'pr': 1500, 'qn': 0},\n",
              " '1008': {'name': 'Case', 'pr': 599, 'qn': 5},\n",
              " '1009': {'name': 'Keyboard', 'pr': 1999, 'qn': 10},\n",
              " '1010': {'name': 'Jeans', 'pr': 800, 'qn': 6},\n",
              " '1011': {'name': 'Earings', 'pr': 150, 'qn': 15},\n",
              " '1012': {'name': 'Anklet', 'pr': 50, 'qn': 18},\n",
              " '1013': {'name': 'noodles', 'pr': 15, 'qn': 20},\n",
              " '1014': {'name': 'Chips', 'pr': 10, 'qn': 12},\n",
              " '1015': {'name': 'Brown-bread', 'pr': 5, 'qn': 3},\n",
              " '1016': {'name': 'Phone-case', 'pr': 400, 'qn': 8},\n",
              " '1017': {'name': 'Bottle', 'pr': 80, 'qn': 7},\n",
              " '1018': {'name': 'Chocolate', 'pr': 50, 'qn': 10},\n",
              " '1019': {'name': 'Batteries', 'pr': 10, 'qn': 20},\n",
              " '1020': {'name': 'Hairband', 'pr': 20, 'qn': 9},\n",
              " '1021': {'name': 'Paint', 'pr': 500, 'qn': 1000},\n",
              " '1022': {'name': 'Combiflame', 'pr': 1, 'qn': 100},\n",
              " '1023': {'name': 'Rubberbands', 'pr': 50, 'qn': 12},\n",
              " '1024': {'name': 'laptop-sleeve', 'pr': 250, 'qn': 5},\n",
              " '1025': {'name': 'Bedsheets', 'pr': 500, 'qn': 8},\n",
              " '1026': {'name': 'Heels', 'pr': 400, 'qn': 7},\n",
              " '1027': {'name': 'Photo-frames', 'pr': 70, 'qn': 17},\n",
              " '1028': {'name': 'Notebooks', 'pr': 50, 'qn': 8},\n",
              " '1029': {'name': 'Wall-clock', 'pr': 600, 'qn': 5},\n",
              " '1030': {'name': 'Earphones', 'pr': 1500, 'qn': 4}}"
            ]
          },
          "metadata": {},
          "execution_count": 49
        }
      ]
    }
  ]
}