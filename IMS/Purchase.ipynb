{
  "nbformat": 4,
  "nbformat_minor": 0,
  "metadata": {
    "colab": {
      "name": "Purchase.ipynb",
      "provenance": []
    },
    "kernelspec": {
      "name": "python3",
      "display_name": "Python 3"
    },
    "language_info": {
      "name": "python"
    }
  },
  "cells": [
    {
      "cell_type": "markdown",
      "metadata": {
        "id": "BfONw7u2lfC-"
      },
      "source": [
        "Reading new updated data"
      ]
    },
    {
      "cell_type": "code",
      "metadata": {
        "id": "_xJc9qnVmqWq"
      },
      "source": [
        "import json"
      ],
      "execution_count": null,
      "outputs": []
    },
    {
      "cell_type": "code",
      "metadata": {
        "id": "VQ6YLkGwmvTt"
      },
      "source": [
        "fd = open(\"record.json\",'r')\n",
        "r = fd.read()\n",
        "fd.close()\n",
        "\n",
        "records = json.loads(r)"
      ],
      "execution_count": null,
      "outputs": []
    },
    {
      "cell_type": "code",
      "metadata": {
        "colab": {
          "base_uri": "https://localhost:8080/"
        },
        "id": "lBhDx691nBJX",
        "outputId": "6912859c-dc9a-46c3-f5bd-7b4fabc3df6b"
      },
      "source": [
        "records"
      ],
      "execution_count": null,
      "outputs": [
        {
          "output_type": "execute_result",
          "data": {
            "text/plain": [
              "{'1001': {'name': 'Choco Cake', 'pr': 100, 'qn': 34},\n",
              " '1002': {'name': 'Milk Cake', 'pr': 800, 'qn': 100},\n",
              " '1003': {'name': 'Drink', 'pr': 85, 'qn': 100},\n",
              " '1004': {'name': 'Candy', 'pr': 5, 'qn': 1000},\n",
              " '1005': {'name': 'Pen', 'pr': 20, 'qn': 100},\n",
              " '1006': {'name': 'Phone', 'pr': 50000, 'qn': 10},\n",
              " '1007': {'name': 'Mic', 'pr': 1500, 'qn': 0},\n",
              " '1008': {'name': 'Case', 'pr': 599, 'qn': 5},\n",
              " '1009': {'name': 'Keyboard', 'pr': 1999, 'qn': 10},\n",
              " '1010': {'name': 'Jeans', 'pr': 800, 'qn': 6},\n",
              " '1011': {'name': 'Earings', 'pr': 150, 'qn': 15},\n",
              " '1012': {'name': 'Anklet', 'pr': 50, 'qn': 18},\n",
              " '1013': {'name': 'noodles', 'pr': 15, 'qn': 20},\n",
              " '1014': {'name': 'Chips', 'pr': 10, 'qn': 12},\n",
              " '1015': {'name': 'Brown-bread', 'pr': 5, 'qn': 3},\n",
              " '1016': {'name': 'Phone-case', 'pr': 400, 'qn': 8},\n",
              " '1017': {'name': 'Bottle', 'pr': 80, 'qn': 7},\n",
              " '1018': {'name': 'Chocolate', 'pr': 50, 'qn': 10},\n",
              " '1019': {'name': 'Batteries', 'pr': 10, 'qn': 20},\n",
              " '1020': {'name': 'Hairband', 'pr': 20, 'qn': 9},\n",
              " '1021': {'name': 'Paint', 'pr': 500, 'qn': 1000},\n",
              " '1022': {'name': 'Combiflame', 'pr': 1, 'qn': 100},\n",
              " '1023': {'name': 'Rubberbands', 'pr': 50, 'qn': 12},\n",
              " '1024': {'name': 'laptop-sleeve', 'pr': 250, 'qn': 5},\n",
              " '1025': {'name': 'Bedsheets', 'pr': 500, 'qn': 8},\n",
              " '1026': {'name': 'Heels', 'pr': 400, 'qn': 7},\n",
              " '1027': {'name': 'Photo-frames', 'pr': 70, 'qn': 17},\n",
              " '1028': {'name': 'Notebooks', 'pr': 50, 'qn': 8},\n",
              " '1029': {'name': 'Wall-clock', 'pr': 600, 'qn': 5},\n",
              " '1030': {'name': 'Earphones', 'pr': 1500, 'qn': 4}}"
            ]
          },
          "metadata": {},
          "execution_count": 8
        }
      ]
    },
    {
      "cell_type": "markdown",
      "metadata": {
        "id": "49A9FJxOnw3L"
      },
      "source": [
        "PURCHASE \n"
      ]
    },
    {
      "cell_type": "code",
      "metadata": {
        "colab": {
          "base_uri": "https://localhost:8080/"
        },
        "id": "ERcqwiD2n0JC",
        "outputId": "7d16b9ab-29d4-4af7-ea0c-179681a41b0f"
      },
      "source": [
        "from datetime import datetime\n",
        "\n",
        "ui_name = str(input(\"Enter the user name: \"))\n",
        "ui_prod  = str(input(\"Enter the product_Id: \"))\n",
        "ui_quant = int(input(\"Enter the quantity: \"))\n",
        "\n",
        "now = datetime.now()\n",
        "datetime = now.strftime(\"%d/%m/%Y %H:%M:%S\")\n",
        "print(\"Time of Purchase: \", datetime)\n",
        "print(\"Buyer's name: \", ui_name)\n",
        "print(\"Enter Product Name: \", records[ui_prod]['name'])\n",
        "print(\"Enter Product Quantity: \", records[ui_prod]['qn'])\n",
        "\n",
        "if(ui_quant <= records[ui_prod]['qn']):\n",
        "  print(\"Price: \", records[ui_prod]['pr'])\n",
        "  print(\"Billing Amount: \", records[ui_prod]['pr'] * ui_quant)\n",
        "  records[ui_prod]['qn'] = records[ui_prod]['qn'] - ui_quant\n",
        "\n",
        "else:\n",
        "  print(\"Price: \", records[ui_prod]['pr'])\n",
        "  print(\"Available quantity is less\",records[ui_prod]['qn'])\n",
        "  print(\"Billing Amount: \", records[ui_prod]['pr'] * records[ui_prod]['qn'])\n",
        "  records[ui_prod]['qn'] = records[ui_prod]['qn'] - records[ui_prod]['qn']\n",
        "  "
      ],
      "execution_count": 69,
      "outputs": [
        {
          "output_type": "stream",
          "name": "stdout",
          "text": [
            "Enter the user name: shubhr\n",
            "Enter the product_Id: 1011\n",
            "Enter the quantity: 3\n",
            "Time of Purchase:  06/09/2021 11:53:04\n",
            "Buyer's name:  shubhr\n",
            "Enter Product Name:  Earings\n",
            "Enter Product Quantity:  15\n",
            "Price:  150\n",
            "Billing Amount:  450\n"
          ]
        }
      ]
    },
    {
      "cell_type": "markdown",
      "metadata": {
        "id": "_ECHzVvtrk4F"
      },
      "source": [
        "Updated record  json file after the purchase "
      ]
    },
    {
      "cell_type": "code",
      "metadata": {
        "id": "bzUXS2h9r8Gl"
      },
      "source": [
        "js = json.dumps(records)\n",
        "\n",
        "fd = open(\"record.json\",'w')\n",
        "fd.write(js)\n",
        "fd.close()"
      ],
      "execution_count": 74,
      "outputs": []
    },
    {
      "cell_type": "code",
      "metadata": {
        "colab": {
          "base_uri": "https://localhost:8080/"
        },
        "id": "ThgiP-AorqAX",
        "outputId": "7dc9839f-f5a0-4a9e-fc04-9d9a4c44f923"
      },
      "source": [
        "records"
      ],
      "execution_count": 76,
      "outputs": [
        {
          "output_type": "execute_result",
          "data": {
            "text/plain": [
              "{'1001': {'name': 'Choco Cake', 'pr': 100, 'qn': 34},\n",
              " '1002': {'name': 'Milk Cake', 'pr': 800, 'qn': 100},\n",
              " '1003': {'name': 'Drink', 'pr': 85, 'qn': 100},\n",
              " '1004': {'name': 'Candy', 'pr': 5, 'qn': 1000},\n",
              " '1005': {'name': 'Pen', 'pr': 20, 'qn': 100},\n",
              " '1006': {'name': 'Phone', 'pr': 50000, 'qn': 10},\n",
              " '1007': {'name': 'Mic', 'pr': 1500, 'qn': 0},\n",
              " '1008': {'name': 'Case', 'pr': 599, 'qn': 5},\n",
              " '1009': {'name': 'Keyboard', 'pr': 1999, 'qn': 10},\n",
              " '1010': {'name': 'Jeans', 'pr': 800, 'qn': 6},\n",
              " '1011': {'name': 'Earings', 'pr': 150, 'qn': 12},\n",
              " '1012': {'name': 'Anklet', 'pr': 50, 'qn': 18},\n",
              " '1013': {'name': 'noodles', 'pr': 15, 'qn': 20},\n",
              " '1014': {'name': 'Chips', 'pr': 10, 'qn': 2},\n",
              " '1015': {'name': 'Brown-bread', 'pr': 5, 'qn': 3},\n",
              " '1016': {'name': 'Phone-case', 'pr': 400, 'qn': 8},\n",
              " '1017': {'name': 'Bottle', 'pr': 80, 'qn': 7},\n",
              " '1018': {'name': 'Chocolate', 'pr': 50, 'qn': 10},\n",
              " '1019': {'name': 'Batteries', 'pr': 10, 'qn': 20},\n",
              " '1020': {'name': 'Hairband', 'pr': 20, 'qn': 9},\n",
              " '1021': {'name': 'Paint', 'pr': 500, 'qn': 1000},\n",
              " '1022': {'name': 'Combiflame', 'pr': 1, 'qn': 0},\n",
              " '1023': {'name': 'Rubberbands', 'pr': 50, 'qn': 12},\n",
              " '1024': {'name': 'laptop-sleeve', 'pr': 250, 'qn': 5},\n",
              " '1025': {'name': 'Bedsheets', 'pr': 500, 'qn': 8},\n",
              " '1026': {'name': 'Heels', 'pr': 400, 'qn': 7},\n",
              " '1027': {'name': 'Photo-frames', 'pr': 70, 'qn': 17},\n",
              " '1028': {'name': 'Notebooks', 'pr': 50, 'qn': 8},\n",
              " '1029': {'name': 'Wall-clock', 'pr': 600, 'qn': 5},\n",
              " '1030': {'name': 'Earphones', 'pr': 1500, 'qn': 2}}"
            ]
          },
          "metadata": {},
          "execution_count": 76
        }
      ]
    },
    {
      "cell_type": "code",
      "metadata": {
        "id": "GCeFG-3V6aJZ"
      },
      "source": [
        "fd = open(\"sales.json\",'r')\n",
        "r = fd.read()\n",
        "fd.close()\n",
        "\n",
        "sales = json.loads(r)"
      ],
      "execution_count": 44,
      "outputs": []
    },
    {
      "cell_type": "code",
      "metadata": {
        "colab": {
          "base_uri": "https://localhost:8080/"
        },
        "id": "bblaJlzQ6dtk",
        "outputId": "d45fb751-d6d2-4f98-bf54-f35ab99c1c70"
      },
      "source": [
        "sales"
      ],
      "execution_count": 73,
      "outputs": [
        {
          "output_type": "execute_result",
          "data": {
            "text/plain": [
              "{'1011': {'name': 'Earings', 'pr': 450, 'qn': 3},\n",
              " '1014': {'name': 'Chips', 'pr': 100, 'qn': 10},\n",
              " '1022': {'name': 'Combiflame', 'pr': 100, 'qn': 100},\n",
              " '1030': {'name': 'Earphones', 'pr': 3000, 'qn': 2}}"
            ]
          },
          "metadata": {},
          "execution_count": 73
        }
      ]
    }
  ]
}